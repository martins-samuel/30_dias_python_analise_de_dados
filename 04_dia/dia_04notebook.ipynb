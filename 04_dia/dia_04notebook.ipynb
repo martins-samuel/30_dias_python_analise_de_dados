{
 "cells": [
  {
   "cell_type": "markdown",
   "id": "7be8dc53-3502-45a8-9176-6867eac2dd24",
   "metadata": {},
   "source": [
    "# Dicionário"
   ]
  },
  {
   "cell_type": "markdown",
   "id": "99aefc3a-4ce6-49d1-8000-c5c78c688e5e",
   "metadata": {},
   "source": [
    "## Conhecido também por HASH MAPS ou  Array Associativos"
   ]
  },
  {
   "cell_type": "markdown",
   "id": "21c76dbb-725e-41a5-8711-3ebf3f2c5f43",
   "metadata": {},
   "source": [
    "### armazena uma coleção de pares chave-valor, em que a chave e o valor são objetos. Cada chave é associada a um valor para que um valor possa ser convenintemente recuperado, inserido, modificado ou excluído dada uma chave específica."
   ]
  },
  {
   "cell_type": "code",
   "execution_count": 31,
   "id": "b900ed23-6e11-4866-a5ff-6f669d80c6e9",
   "metadata": {},
   "outputs": [],
   "source": [
    "empty_dict = {}"
   ]
  },
  {
   "cell_type": "code",
   "execution_count": 32,
   "id": "bd967d2a-f81a-4478-80eb-ea3a4cac9434",
   "metadata": {},
   "outputs": [],
   "source": [
    "d1 = {'a': 'some value', 'b' : [1,2,3,4,5]}"
   ]
  },
  {
   "cell_type": "code",
   "execution_count": 33,
   "id": "ea4b4bf7-94bc-4e0e-bf4d-23eb41af0ee2",
   "metadata": {},
   "outputs": [
    {
     "data": {
      "text/plain": [
       "{'a': 'some value', 'b': [1, 2, 3, 4, 5]}"
      ]
     },
     "execution_count": 33,
     "metadata": {},
     "output_type": "execute_result"
    }
   ],
   "source": [
    "d1"
   ]
  },
  {
   "cell_type": "markdown",
   "id": "4873a942-500c-4d3d-95b7-262b4e6d722d",
   "metadata": {},
   "source": [
    "### Para acessar, inserir ou definir elementos usando a memsma sintaxe do acesso a elementos de uma lista ou tupla "
   ]
  },
  {
   "cell_type": "code",
   "execution_count": 34,
   "id": "778becf7-dcfb-427c-9bc5-8237f401d6db",
   "metadata": {},
   "outputs": [],
   "source": [
    "d1[7] = 'an integer'"
   ]
  },
  {
   "cell_type": "code",
   "execution_count": 35,
   "id": "4e19af3a-198e-47fc-9fd3-7f678f0fd8f5",
   "metadata": {},
   "outputs": [
    {
     "data": {
      "text/plain": [
       "{'a': 'some value', 'b': [1, 2, 3, 4, 5], 7: 'an integer'}"
      ]
     },
     "execution_count": 35,
     "metadata": {},
     "output_type": "execute_result"
    }
   ],
   "source": [
    "d1"
   ]
  },
  {
   "cell_type": "code",
   "execution_count": 36,
   "id": "da09c37b-b398-47ae-be0c-aa154723c0e6",
   "metadata": {},
   "outputs": [
    {
     "data": {
      "text/plain": [
       "[1, 2, 3, 4, 5]"
      ]
     },
     "execution_count": 36,
     "metadata": {},
     "output_type": "execute_result"
    }
   ],
   "source": [
    "d1['b']"
   ]
  },
  {
   "cell_type": "code",
   "execution_count": 37,
   "id": "dddda918-fdd7-420d-abaf-bd92a70d7436",
   "metadata": {},
   "outputs": [
    {
     "data": {
      "text/plain": [
       "'Olá samuel!'"
      ]
     },
     "execution_count": 37,
     "metadata": {},
     "output_type": "execute_result"
    }
   ],
   "source": [
    "def saudacao(nome):\n",
    "    return f'Olá {nome}!'\n",
    "saudacao ('samuel')\n",
    "    "
   ]
  },
  {
   "cell_type": "markdown",
   "id": "bee88b85-8502-472a-9764-c60a96675651",
   "metadata": {},
   "source": [
    "## É possível verificar se um dicionário contém uma chave com o uso do IN ou NOT IN"
   ]
  },
  {
   "cell_type": "code",
   "execution_count": 39,
   "id": "36489019-cf66-4f66-bb2e-8a44498914f1",
   "metadata": {},
   "outputs": [
    {
     "data": {
      "text/plain": [
       "True"
      ]
     },
     "execution_count": 39,
     "metadata": {},
     "output_type": "execute_result"
    }
   ],
   "source": [
    "'b' in d1"
   ]
  },
  {
   "cell_type": "code",
   "execution_count": 40,
   "id": "6c04425b-d2ab-426b-9a05-df121e4e08c2",
   "metadata": {},
   "outputs": [
    {
     "data": {
      "text/plain": [
       "False"
      ]
     },
     "execution_count": 40,
     "metadata": {},
     "output_type": "execute_result"
    }
   ],
   "source": [
    "'a' not in d1"
   ]
  },
  {
   "cell_type": "code",
   "execution_count": 41,
   "id": "2f870f31-1311-4bc1-837f-6f5efb150041",
   "metadata": {},
   "outputs": [],
   "source": [
    "# adicionando outros objetos \n",
    "d1['dummy'] = 'another value'"
   ]
  },
  {
   "cell_type": "code",
   "execution_count": 42,
   "id": "d629d15b-4e30-4c06-8bab-872017965294",
   "metadata": {},
   "outputs": [
    {
     "data": {
      "text/plain": [
       "{'a': 'some value',\n",
       " 'b': [1, 2, 3, 4, 5],\n",
       " 7: 'an integer',\n",
       " 'dummy': 'another value'}"
      ]
     },
     "execution_count": 42,
     "metadata": {},
     "output_type": "execute_result"
    }
   ],
   "source": [
    "d1"
   ]
  },
  {
   "cell_type": "code",
   "execution_count": 43,
   "id": "136b6c2b-35f9-4cde-9ab5-da91dc24a5e1",
   "metadata": {},
   "outputs": [],
   "source": [
    "d1 [5] = 'some value'"
   ]
  },
  {
   "cell_type": "code",
   "execution_count": 44,
   "id": "7d6c72dd-25cd-4d1d-9017-f7a296e6af3a",
   "metadata": {},
   "outputs": [
    {
     "data": {
      "text/plain": [
       "{'a': 'some value',\n",
       " 'b': [1, 2, 3, 4, 5],\n",
       " 7: 'an integer',\n",
       " 'dummy': 'another value',\n",
       " 5: 'some value'}"
      ]
     },
     "execution_count": 44,
     "metadata": {},
     "output_type": "execute_result"
    }
   ],
   "source": [
    "d1"
   ]
  },
  {
   "cell_type": "markdown",
   "id": "c72e0d21-7009-41df-a884-d2788cd0a50c",
   "metadata": {},
   "source": [
    "## Podemos excluir com DEL ou com o método POP (que simultaneamente retorna o valor e exclui a chave)"
   ]
  },
  {
   "cell_type": "code",
   "execution_count": 45,
   "id": "6fa81897-ea39-4e3e-9168-a5fdfbcb77d5",
   "metadata": {},
   "outputs": [],
   "source": [
    "del d1[5]"
   ]
  },
  {
   "cell_type": "code",
   "execution_count": 46,
   "id": "5942c257-86e2-4cd9-a657-1f30a1f20e92",
   "metadata": {},
   "outputs": [
    {
     "data": {
      "text/plain": [
       "{'a': 'some value',\n",
       " 'b': [1, 2, 3, 4, 5],\n",
       " 7: 'an integer',\n",
       " 'dummy': 'another value'}"
      ]
     },
     "execution_count": 46,
     "metadata": {},
     "output_type": "execute_result"
    }
   ],
   "source": [
    "d1"
   ]
  },
  {
   "cell_type": "code",
   "execution_count": 47,
   "id": "ef073763-6306-4bee-9746-a36da8df1433",
   "metadata": {},
   "outputs": [],
   "source": [
    "ret = d1.pop('dummy')"
   ]
  },
  {
   "cell_type": "code",
   "execution_count": 48,
   "id": "ae8ffe2d-5c8a-4cac-b690-8dd1ad4b1e88",
   "metadata": {},
   "outputs": [
    {
     "data": {
      "text/plain": [
       "{'a': 'some value', 'b': [1, 2, 3, 4, 5], 7: 'an integer'}"
      ]
     },
     "execution_count": 48,
     "metadata": {},
     "output_type": "execute_result"
    }
   ],
   "source": [
    "d1"
   ]
  },
  {
   "cell_type": "markdown",
   "id": "9f47334f-e587-42cc-81a4-6065483ad470",
   "metadata": {},
   "source": [
    "## 📌 `keys()` e `values()` em Python\n",
    "\n",
    "Os métodos **`keys()`** e **`values()`** não adicionam nada ao dicionário — eles apenas retornam uma visão das chaves ou valores já existentes.\n",
    "\n",
    "---\n",
    "\n",
    "### 🔹 Resumo:\n",
    "- **`keys()`** → retorna todas as **chaves** do dicionário.\n",
    "- **`values()`** → retorna todos os **valores** do dicionário.\n",
    "- **Para adicionar itens** → usar atribuição direta (`dict[chave] = valor`) ou o método `.update()` para adicionar vários de uma vez.\n",
    "\n",
    "---\n",
    "\n",
    "### 💻 Exemplo:\n",
    "```python\n",
    "meu_dict = {\"a\": 1, \"b\": 2}\n",
    "\n",
    "# Retornando chaves e valores existentes\n",
    "print(meu_dict.keys())   # dict_keys(['a', 'b'])\n",
    "print(meu_dict.values()) # dict_values([1, 2])\n",
    "\n",
    "# Adicionando vários elementos de uma vez\n",
    "meu_dict.update({\"c\": 3, \"d\": 4})\n",
    "print(meu_dict)          # {'a': 1, 'b': 2, 'c': 3, 'd': 4}\n"
   ]
  },
  {
   "cell_type": "code",
   "execution_count": null,
   "id": "bf891367-e261-47da-832d-17092ff18001",
   "metadata": {},
   "outputs": [],
   "source": []
  }
 ],
 "metadata": {
  "kernelspec": {
   "display_name": "Python 3 (ipykernel)",
   "language": "python",
   "name": "python3"
  },
  "language_info": {
   "codemirror_mode": {
    "name": "ipython",
    "version": 3
   },
   "file_extension": ".py",
   "mimetype": "text/x-python",
   "name": "python",
   "nbconvert_exporter": "python",
   "pygments_lexer": "ipython3",
   "version": "3.10.18"
  }
 },
 "nbformat": 4,
 "nbformat_minor": 5
}
