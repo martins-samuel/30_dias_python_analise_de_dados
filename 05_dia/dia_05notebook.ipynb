{
 "cells": [
  {
   "cell_type": "markdown",
   "id": "240a37b6",
   "metadata": {},
   "source": [
    "# Exercícios sobre LISTAS e TUPLAS"
   ]
  },
  {
   "cell_type": "markdown",
   "id": "79b18cb5",
   "metadata": {},
   "source": [
    "#### 1- Roberto está organizando sua despensa e quer verificar se determinados itens já estão armazenados antes de adicioná-los à lista de compras.Ajude Roberto a criar um programa que pergunte o item desejado e verifique se ele está na lista de itens disponíveis na despensa. Caso o item não esteja na lista, o programa deve informar que ele precisa ser comprado."
   ]
  },
  {
   "cell_type": "code",
   "execution_count": 1,
   "id": "9ba689a3",
   "metadata": {},
   "outputs": [
    {
     "name": "stdout",
     "output_type": "stream",
     "text": [
      "Digite o item que deseja verificar na dispensa:  açúcar\n"
     ]
    },
    {
     "name": "stdout",
     "output_type": "stream",
     "text": [
      "Precisa compra pois falta o item açúcar na despensa\n"
     ]
    }
   ],
   "source": [
    "despensa = ['batata', 'feijão', 'macarrão', 'arroz']\n",
    "item = input('Digite o item que deseja verificar na dispensa: ')\n",
    "if item in despensa:\n",
    "    print(f'Não precisa comprar, pois ainda tem {item} no estoque da despensa')\n",
    "else:\n",
    "    print(f'Precisa compra pois falta o item {item} na despensa')"
   ]
  },
  {
   "cell_type": "markdown",
   "id": "27218dd9-b134-4244-ac87-af94eafc0a2d",
   "metadata": {},
   "source": [
    "#### 2- Uma escola realizou um concurso de redação, e o próximo passo é organizar as notas dos participantes para definir a ordem de premiação. Para garantir transparência, as notas precisam ser classificadas em ordem crescente, do menor para o maior valor.Com base nisso, desenvolva um programa que receba como entrada uma lista contendo as notas de todos os participantes e exiba, ao final, essa lista ordenada em ordem crescente. Exemplo de Entrada:\n",
    "##### Notas: [85, 70, 90, 60, 75]\n",
    "\n",
    "##### Saída esperada:Notas ordenadas: [60, 70, 75, 85, 90]\n",
    "\n"
   ]
  },
  {
   "cell_type": "markdown",
   "id": "71976064-99f2-4070-af96-d9c2665ef0cf",
   "metadata": {},
   "source": [
    "Notas = [85, 70, 90, 60, 75]\n",
    "Notas.sort()\n",
    "Notas"
   ]
  },
  {
   "cell_type": "markdown",
   "id": "ac9f6449-6701-4c50-b6f7-80d0eb7b268b",
   "metadata": {},
   "source": [
    "#### 3- Uma ONG está organizando uma campanha de arrecadação de alimentos e precisa registrar os nomes dos voluntários que vão ajudar na ação. À medida que os voluntários se inscrevem, seus nomes devem ser adicionados à lista e quando for digitado a palavra sair o programa deve encerrar.Ajude a ONG a criar um programa que permita registrar os voluntários e exiba a lista completa no final."
   ]
  },
  {
   "cell_type": "code",
   "execution_count": 4,
   "id": "09e6d1d3-23d8-4e1a-9563-a7d7a384064e",
   "metadata": {},
   "outputs": [
    {
     "name": "stdout",
     "output_type": "stream",
     "text": [
      "Digite o nome do colaborador para adicionar na lista ou \"SAIR\" para encerrar a Lista samue\n",
      "Digite o nome do colaborador para adicionar na lista ou \"SAIR\" para encerrar a Lista larissa\n",
      "Digite o nome do colaborador para adicionar na lista ou \"SAIR\" para encerrar a Lista bruna\n",
      "Digite o nome do colaborador para adicionar na lista ou \"SAIR\" para encerrar a Lista sarah\n",
      "Digite o nome do colaborador para adicionar na lista ou \"SAIR\" para encerrar a Lista sair\n"
     ]
    },
    {
     "name": "stdout",
     "output_type": "stream",
     "text": [
      "Programa encerrado \n",
      "\n",
      "Lista final de voluntários:\n",
      "['SAMUE', 'LARISSA', 'BRUNA', 'SARAH']\n"
     ]
    }
   ],
   "source": [
    "Nomes = []\n",
    "while True:\n",
    "    Nome = input('Digite o nome do colaborador para adicionar na lista ou \"SAIR\" para encerrar a Lista').upper().strip()\n",
    "    if Nome == 'SAIR':\n",
    "        print('Programa encerrado ')\n",
    "        \n",
    "        break\n",
    "    else:\n",
    "        Nomes.append(Nome)\n",
    "print('\\nLista final de voluntários:')\n",
    "print(Nomes)"
   ]
  },
  {
   "cell_type": "markdown",
   "id": "de6fe1b0-cc96-4fd5-b750-07fda673d1b2",
   "metadata": {},
   "source": [
    "#### 4-Armano trabalha com a gestão de dois estoques de mercadorias que são representados como tuplas. Agora, ele precisa criar um relatório unificado com os produtos dos dois estoques juntos.Para ajudá-lo, como você criaria um programa que ler as informações dos estoques e gera um relatório com todos os produtos juntos? \n",
    "#### Produtos do estoque 1 (separados por vírgula): Arroz, Feijão, Macarrão \n",
    "#### Produtos do estoque 2 (separados por vírgula): Óleo, Sal, Açúcar"
   ]
  },
  {
   "cell_type": "code",
   "execution_count": 7,
   "id": "60888f8b-79d5-4219-87bf-9d396de85dbb",
   "metadata": {},
   "outputs": [
    {
     "data": {
      "text/plain": [
       "('arroz', 'feijão', 'macarrão', 'oléo', 'sal', 'açúcar')"
      ]
     },
     "execution_count": 7,
     "metadata": {},
     "output_type": "execute_result"
    }
   ],
   "source": [
    "estoque_1 = ('arroz','feijão','macarrão')\n",
    "estoque_2 = ('oléo','sal','açúcar')\n",
    "estoque_total = (estoque_1 + estoque_2)\n",
    "estoque_total"
   ]
  },
  {
   "cell_type": "markdown",
   "id": "ae41c33e-c40c-4e14-8fff-0ae94de27eec",
   "metadata": {},
   "source": [
    "#### 5-Camila adora receber amigos para jantares temáticos. Para o próximo encontro, ela quer garantir que a ordem de chegada seja respeitada, mas ainda precisa fazer ajustes na lista de convidados. Camila quer adicionar novos nomes e organizá-los em posições específicas.Como você criaria um programa que mostre a lista inicial, permita a inserção de um novo nome em uma posição escolhida e exiba a lista atualizada? \n",
    "##### Lista atual de convidados: ['Ana', 'Pedro', 'Carlos']\n",
    "##### Digite o nome do novo convidado: João\n",
    "##### Digite a posição na qual deseja inserir o convidado: 2"
   ]
  },
  {
   "cell_type": "code",
   "execution_count": null,
   "id": "86dbb212-4aaf-4f1f-b76a-4ed250cace0c",
   "metadata": {},
   "outputs": [],
   "source": [
    "convidados = ['Ana','Pedro','Carlos']\n",
    "while True:\n",
    "    "
   ]
  },
  {
   "cell_type": "markdown",
   "id": "19bc9fc4",
   "metadata": {},
   "source": [
    "#### A professora Helena quer facilitar sua rotina na hora de calcular a média das notas finais da turma. Ela sempre anota as notas dos alunos ao longo do semestre e, no final, precisa de um relatório para saber se a turma está indo bem.Para isso, ajude a professora a criar um programa que receba as notas finais de todos os alunos e calcule a média da turma."
   ]
  },
  {
   "cell_type": "code",
   "execution_count": 8,
   "id": "cbf851bd",
   "metadata": {},
   "outputs": [
    {
     "name": "stdout",
     "output_type": "stream",
     "text": [
      "Média final da turma: 7.50\n"
     ]
    }
   ],
   "source": [
    "notas = input(\"Digite as notas dos alunos separadas por vírgula: \").split(\",\")sa\n",
    "notas = [float(nota) for nota in notas]\n",
    "media = sum(notas) / len(notas)\n",
    "print(f\"Média final da turma: {media:.2f}\")"
   ]
  },
  {
   "cell_type": "markdown",
   "id": "13f31450",
   "metadata": {},
   "source": [
    "####  Ana percebeu que, após o cadastro inicial dos produtos, precisa atualizar a quantidade de um item específico no estoque. Sua tarefa é criar um programa que solicite o nome do produto e a nova quantidade, atualizando essa informação no dicionário de estoque."
   ]
  },
  {
   "cell_type": "markdown",
   "id": "307feccd",
   "metadata": {},
   "source": [
    "#### Sara está participando de um concurso de escrita, e uma das regras exige que cada palavra de seu texto tenha um limite máximo de caracteres.Ajude Sara criando uma função que receba uma palavra e exiba a quantidade de caracteres."
   ]
  },
  {
   "cell_type": "code",
   "execution_count": 4,
   "id": "56c812a6-e356-430f-a88c-c52152dc4fe3",
   "metadata": {},
   "outputs": [
    {
     "name": "stdout",
     "output_type": "stream",
     "text": [
      "Essa palavra livro tem 5 caracteres.\n"
     ]
    }
   ],
   "source": [
    "def contar_caracteres(palavra): \n",
    "    return len(palavra) \n",
    "texto = input(\"Digite uma palavra: \") \n",
    "print(f\"Essa palavra {texto} tem {contar_caracteres(texto)} caracteres.\") "
   ]
  },
  {
   "cell_type": "markdown",
   "id": "bdaaa3c8",
   "metadata": {},
   "source": []
  }
 ],
 "metadata": {
  "kernelspec": {
   "display_name": "pydata-book",
   "language": "python",
   "name": "python3"
  },
  "language_info": {
   "codemirror_mode": {
    "name": "ipython",
    "version": 3
   },
   "file_extension": ".py",
   "mimetype": "text/x-python",
   "name": "python",
   "nbconvert_exporter": "python",
   "pygments_lexer": "ipython3",
   "version": "3.10.18"
  }
 },
 "nbformat": 4,
 "nbformat_minor": 5
}
