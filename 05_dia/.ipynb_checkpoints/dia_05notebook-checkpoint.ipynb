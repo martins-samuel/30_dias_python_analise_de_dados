{
 "cells": [
  {
   "cell_type": "markdown",
   "id": "240a37b6",
   "metadata": {},
   "source": [
    "# Exercícios sobre LISTAS e TUPLAS"
   ]
  },
  {
   "cell_type": "markdown",
   "id": "79b18cb5",
   "metadata": {},
   "source": [
    "#### Roberto está organizando sua despensa e quer verificar se determinados itens já estão armazenados antes de adicioná-los à lista de compras.Ajude Roberto a criar um programa que pergunte o item desejado e verifique se ele está na lista de itens disponíveis na despensa. Caso o item não esteja na lista, o programa deve informar que ele precisa ser comprado."
   ]
  },
  {
   "cell_type": "code",
   "execution_count": 3,
   "id": "9ba689a3",
   "metadata": {},
   "outputs": [
    {
     "name": "stdout",
     "output_type": "stream",
     "text": [
      "Precisa compra pois falta o item maça na despensa\n"
     ]
    }
   ],
   "source": [
    "despensa = ['batata', 'feijão', 'macarrão', 'arroz']\n",
    "item = input('Digite o item que deseja verificar na dispensa: ')\n",
    "if item in despensa:\n",
    "    print(f'Não precisa comprar, pois ainda tem {item} no estoque da despensa')\n",
    "else:\n",
    "    print(f'Precisa compra pois falta o item {item} na despensa')"
   ]
  },
  {
   "cell_type": "markdown",
   "id": "19bc9fc4",
   "metadata": {},
   "source": [
    "#### A professora Helena quer facilitar sua rotina na hora de calcular a média das notas finais da turma. Ela sempre anota as notas dos alunos ao longo do semestre e, no final, precisa de um relatório para saber se a turma está indo bem.Para isso, ajude a professora a criar um programa que receba as notas finais de todos os alunos e calcule a média da turma."
   ]
  },
  {
   "cell_type": "code",
   "execution_count": 8,
   "id": "cbf851bd",
   "metadata": {},
   "outputs": [
    {
     "name": "stdout",
     "output_type": "stream",
     "text": [
      "Média final da turma: 7.50\n"
     ]
    }
   ],
   "source": [
    "notas = input(\"Digite as notas dos alunos separadas por vírgula: \").split(\",\")\n",
    "notas = [float(nota) for nota in notas]\n",
    "media = sum(notas) / len(notas)\n",
    "print(f\"Média final da turma: {media:.2f}\")"
   ]
  },
  {
   "cell_type": "markdown",
   "id": "13f31450",
   "metadata": {},
   "source": []
  }
 ],
 "metadata": {
  "kernelspec": {
   "display_name": "pydata-book",
   "language": "python",
   "name": "python3"
  },
  "language_info": {
   "codemirror_mode": {
    "name": "ipython",
    "version": 3
   },
   "file_extension": ".py",
   "mimetype": "text/x-python",
   "name": "python",
   "nbconvert_exporter": "python",
   "pygments_lexer": "ipython3",
   "version": "3.10.18"
  }
 },
 "nbformat": 4,
 "nbformat_minor": 5
}
