{
 "cells": [
  {
   "cell_type": "markdown",
   "id": "7bc13382-e107-40c6-8652-d132567eec8b",
   "metadata": {},
   "source": [
    "# Numpy\n"
   ]
  },
  {
   "cell_type": "markdown",
   "id": "04f1d542-8e7d-4e6c-b80a-3ce6b43a7f39",
   "metadata": {},
   "source": [
    "### Principais Características e Funcionalidades\n",
    "##### Arrays ndarray: O objeto central do NumPy. Ele permite operações matemáticas e lógicas em arrays inteiros, sem a necessidade de loops explícitos.\n",
    "\n",
    "##### Velocidade: As operações do NumPy são implementadas em C, C++ e Fortran, o que as torna incrivelmente rápidas. Isso é crucial para o processamento de grandes volumes de dados.\n",
    "\n",
    "##### Funções Matemáticas: Inclui uma vasta coleção de funções para álgebra linear, transformadas de Fourier, estatísticas e muito mais.\n",
    "\n",
    "#### Interoperabilidade: O NumPy é a base para muitas outras bibliotecas importantes no ecossistema de ciência de dados de Python, como o Pandas, SciPy, Matplotlib e scikit-learn."
   ]
  },
  {
   "cell_type": "markdown",
   "id": "8dd1ebbb-87db-45b1-a7b4-4974b355f5c3",
   "metadata": {},
   "source": [
    "## Exemplo comparação entre Python vs Numpy medindo a velocidade "
   ]
  },
  {
   "cell_type": "code",
   "execution_count": 3,
   "id": "4a123d91-c23e-43be-8f8c-b0c6a567a9d7",
   "metadata": {},
   "outputs": [
    {
     "name": "stdout",
     "output_type": "stream",
     "text": [
      "Tempo com lista Python: 2.044589 segundos\n",
      "Tempo com array NumPy:  0.038432 segundos\n",
      "\n",
      "NumPy foi 53.20 vezes mais rápido.\n"
     ]
    }
   ],
   "source": [
    "import numpy as np\n",
    "import time\n",
    "\n",
    "# Define o tamanho do conjunto de dados para o teste\n",
    "tamanho = 10_000_000\n",
    "\n",
    "# ----- Comparação com Lista Python -----\n",
    "# Cria uma lista padrão do Python\n",
    "lista_python = list(range(tamanho))\n",
    "resultado_lista = []\n",
    "\n",
    "# Mede o tempo para a multiplicação usando um loop\n",
    "tempo_inicio_lista = time.time()\n",
    "for x in lista_python:\n",
    "    resultado_lista.append(x * 2)\n",
    "tempo_fim_lista = time.time()\n",
    "tempo_lista = tempo_fim_lista - tempo_inicio_lista\n",
    "\n",
    "# ----- Comparação com Array NumPy -----\n",
    "# Cria um array NumPy\n",
    "array_numpy = np.arange(tamanho)\n",
    "\n",
    "# Mede o tempo para a multiplicação vetorizada\n",
    "tempo_inicio_numpy = time.time()\n",
    "resultado_numpy = array_numpy * 2\n",
    "tempo_fim_numpy = time.time()\n",
    "tempo_numpy = tempo_fim_numpy - tempo_inicio_numpy\n",
    "\n",
    "# Imprime os resultados\n",
    "print(f\"Tempo com lista Python: {tempo_lista:.6f} segundos\")\n",
    "print(f\"Tempo com array NumPy:  {tempo_numpy:.6f} segundos\")\n",
    "\n",
    "# Calcula e imprime o fator de aceleração\n",
    "fator_aceleracao = tempo_lista / tempo_numpy\n",
    "print(f\"\\nNumPy foi {fator_aceleracao:.2f} vezes mais rápido.\")"
   ]
  }
 ],
 "metadata": {
  "kernelspec": {
   "display_name": "Python 3 (ipykernel)",
   "language": "python",
   "name": "python3"
  },
  "language_info": {
   "codemirror_mode": {
    "name": "ipython",
    "version": 3
   },
   "file_extension": ".py",
   "mimetype": "text/x-python",
   "name": "python",
   "nbconvert_exporter": "python",
   "pygments_lexer": "ipython3",
   "version": "3.10.18"
  }
 },
 "nbformat": 4,
 "nbformat_minor": 5
}
