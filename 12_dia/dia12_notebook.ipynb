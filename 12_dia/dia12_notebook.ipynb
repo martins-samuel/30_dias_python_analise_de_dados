{
 "cells": [
  {
   "cell_type": "markdown",
   "id": "35dadbd7",
   "metadata": {},
   "source": [
    "# Ndarray"
   ]
  },
  {
   "cell_type": "markdown",
   "id": "ee8f1d9d",
   "metadata": {},
   "source": [
    "#### Um dos principais recursos do Numpy é seu objeto de array n-dimensional, ou ndarray, que é um contêiner rápido e flexível para grandes cpnjuntos de dados em Python"
   ]
  },
  {
   "cell_type": "markdown",
   "id": "f865dcca",
   "metadata": {},
   "source": [
    "##### Os arrays permitem executar operações matemáticas em blocos de dados inteiros"
   ]
  },
  {
   "cell_type": "markdown",
   "id": "2e195494",
   "metadata": {},
   "source": [
    "##### Um ndarray é um contênier multidimensional gerérico para dados homogêneos;"
   ]
  },
  {
   "cell_type": "code",
   "execution_count": null,
   "id": "376393be",
   "metadata": {},
   "outputs": [
    {
     "data": {
      "text/plain": [
       "array([6. , 7.5, 8. , 0. , 1. ])"
      ]
     },
     "execution_count": 1,
     "metadata": {},
     "output_type": "execute_result"
    }
   ],
   "source": [
    "# Exemplo \n",
    "import numpy as np\n",
    "data1 = [6,7.5,8,0,1]\n",
    "\n",
    "arr1 = np.array(data1) # transformar  a lista em um ndarray do NumPy\n",
    "arr1"
   ]
  },
  {
   "cell_type": "code",
   "execution_count": null,
   "id": "61e009d8",
   "metadata": {},
   "outputs": [],
   "source": []
  }
 ],
 "metadata": {
  "kernelspec": {
   "display_name": "pydata-book",
   "language": "python",
   "name": "python3"
  },
  "language_info": {
   "codemirror_mode": {
    "name": "ipython",
    "version": 3
   },
   "file_extension": ".py",
   "mimetype": "text/x-python",
   "name": "python",
   "nbconvert_exporter": "python",
   "pygments_lexer": "ipython3",
   "version": "3.10.18"
  }
 },
 "nbformat": 4,
 "nbformat_minor": 5
}
