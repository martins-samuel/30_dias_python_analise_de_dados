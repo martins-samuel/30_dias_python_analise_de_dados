{
 "cells": [
  {
   "cell_type": "markdown",
   "id": "fae86de7",
   "metadata": {},
   "source": [
    "# Tupla\n",
    "É uma sequência imutável e de tamanhos fixos. Uma vez atribuída não pode ser alterado \n"
   ]
  },
  {
   "cell_type": "code",
   "execution_count": 28,
   "id": "dffe6d3c",
   "metadata": {},
   "outputs": [
    {
     "data": {
      "text/plain": [
       "(1, 2, 3, 4)"
      ]
     },
     "execution_count": 28,
     "metadata": {},
     "output_type": "execute_result"
    }
   ],
   "source": [
    "# a maneira mais fácil de criar uma tupla é com números dentro de um parentese separados por vírgula.\n",
    "tupla = (1, 2, 3, 4)\n",
    "tupla\n"
   ]
  },
  {
   "cell_type": "code",
   "execution_count": 29,
   "id": "d08effa5",
   "metadata": {},
   "outputs": [
    {
     "data": {
      "text/plain": [
       "tuple"
      ]
     },
     "execution_count": 29,
     "metadata": {},
     "output_type": "execute_result"
    }
   ],
   "source": [
    "#Pode também emitir o parêntese  \n",
    "tup = 4,5,6\n",
    "tup\n",
    "type(tup)"
   ]
  },
  {
   "cell_type": "markdown",
   "id": "40142cec",
   "metadata": {},
   "source": [
    "## Os elementos podem ser acessados por meio dos colchetes [] !\n",
    "### As sequências em python sõa indexadas começando em 0 !"
   ]
  },
  {
   "cell_type": "code",
   "execution_count": 30,
   "id": "bbc6792b",
   "metadata": {},
   "outputs": [
    {
     "data": {
      "text/plain": [
       "((4, 5, 6), (7, 8))"
      ]
     },
     "execution_count": 30,
     "metadata": {},
     "output_type": "execute_result"
    }
   ],
   "source": [
    "# existe a possibilidade de criar uma tupla de tuplas\n",
    "nested_tup = (4,5,6),(7,8)\n",
    "nested_tup"
   ]
  },
  {
   "cell_type": "code",
   "execution_count": 31,
   "id": "adfd9cb5",
   "metadata": {},
   "outputs": [
    {
     "data": {
      "text/plain": [
       "(4, 5, 6)"
      ]
     },
     "execution_count": 31,
     "metadata": {},
     "output_type": "execute_result"
    }
   ],
   "source": [
    "nested_tup[0]"
   ]
  },
  {
   "cell_type": "code",
   "execution_count": 32,
   "id": "d29e8ebe",
   "metadata": {},
   "outputs": [
    {
     "data": {
      "text/plain": [
       "(7, 8)"
      ]
     },
     "execution_count": 32,
     "metadata": {},
     "output_type": "execute_result"
    }
   ],
   "source": [
    "nested_tup[1]"
   ]
  },
  {
   "cell_type": "markdown",
   "id": "e70fb8f7",
   "metadata": {},
   "source": [
    "## As tuplas podem ter objetos de diversos tipos de uma única vez desde elementos int,float,lista,string ...\n",
    "### Se dentro da tupla existiter um objeto mutável você pode alterar ele diretamente no local basta indicar o indíce do próprio"
   ]
  },
  {
   "cell_type": "code",
   "execution_count": 33,
   "id": "9d112ec7",
   "metadata": {},
   "outputs": [
    {
     "data": {
      "text/plain": [
       "('samuel', [1, 2, 3], 25.7)"
      ]
     },
     "execution_count": 33,
     "metadata": {},
     "output_type": "execute_result"
    }
   ],
   "source": [
    "tupla_diversos = ('samuel',[1,2,3],25.7,)\n",
    "tupla_diversos"
   ]
  },
  {
   "cell_type": "code",
   "execution_count": 34,
   "id": "d6b52494",
   "metadata": {},
   "outputs": [
    {
     "data": {
      "text/plain": [
       "('samuel', [1, 2, 3, 4], 25.7)"
      ]
     },
     "execution_count": 34,
     "metadata": {},
     "output_type": "execute_result"
    }
   ],
   "source": [
    "tupla_diversos[1].append(4)\n",
    "tupla_diversos"
   ]
  },
  {
   "cell_type": "markdown",
   "id": "3e55d6de",
   "metadata": {},
   "source": [
    "## Contatenar = \n",
    "### juntar duas ou mais sequências de caracteres (strings) em uma única sequência\n"
   ]
  },
  {
   "cell_type": "code",
   "execution_count": 35,
   "id": "6dd35d8b",
   "metadata": {},
   "outputs": [
    {
     "data": {
      "text/plain": [
       "('samuel', [1, 2, 3, 4], 25.7, (4, 5, 6), (7, 8))"
      ]
     },
     "execution_count": 35,
     "metadata": {},
     "output_type": "execute_result"
    }
   ],
   "source": [
    "tupla_diversos +  nested_tup\n",
    "# Para contatenar em python diversas tuplas bastar colocar a simbolo da adição "
   ]
  },
  {
   "cell_type": "markdown",
   "id": "94485598",
   "metadata": {},
   "source": [
    "## Desempacotamento de tuplas \n",
    "### Isso facilita a troca do nome da variável deixando o código mais limpo "
   ]
  },
  {
   "cell_type": "code",
   "execution_count": 36,
   "id": "4fc22cee",
   "metadata": {},
   "outputs": [
    {
     "data": {
      "text/plain": [
       "5"
      ]
     },
     "execution_count": 36,
     "metadata": {},
     "output_type": "execute_result"
    }
   ],
   "source": [
    "linha = (4,5,6)\n",
    "a,b,c=linha \n",
    "b"
   ]
  },
  {
   "cell_type": "markdown",
   "id": "5f3ded4d",
   "metadata": {},
   "source": [
    "### Por causa da imútabilidade da tupla ela tem poucos atributos um especialmente útil é o count(). Que realiza a conta do número de ocorrrências de um valor determinado "
   ]
  },
  {
   "cell_type": "code",
   "execution_count": 37,
   "id": "4eb84f21",
   "metadata": {},
   "outputs": [
    {
     "data": {
      "text/plain": [
       "4"
      ]
     },
     "execution_count": 37,
     "metadata": {},
     "output_type": "execute_result"
    }
   ],
   "source": [
    "a = (1,2,2,2,3,4,5,62,22,2)\n",
    "a.count(2)"
   ]
  },
  {
   "cell_type": "markdown",
   "id": "860bbc54",
   "metadata": {},
   "source": [
    "# Lista"
   ]
  },
  {
   "cell_type": "markdown",
   "id": "699a0f2b",
   "metadata": {},
   "source": [
    "## É uma coleção mutável, que tem o tamanho variável e pode ser modificada diretamente no local\n",
    "### A forma mais fácil de representar é com os objetos dentro de um colchete [] separados por virgula , ."
   ]
  },
  {
   "cell_type": "code",
   "execution_count": 38,
   "id": "521ba79b",
   "metadata": {},
   "outputs": [
    {
     "data": {
      "text/plain": [
       "[2, 3, 45.7, 'Samuel', (1, 2, 3)]"
      ]
     },
     "execution_count": 38,
     "metadata": {},
     "output_type": "execute_result"
    }
   ],
   "source": [
    "# exemplo de lista \n",
    "lista = [2,3,45.7,'Samuel', (1,2,3)]\n",
    "lista"
   ]
  },
  {
   "cell_type": "code",
   "execution_count": null,
   "id": "e6cf40df",
   "metadata": {},
   "outputs": [],
   "source": []
  }
 ],
 "metadata": {
  "kernelspec": {
   "display_name": "pydata-book",
   "language": "python",
   "name": "python3"
  },
  "language_info": {
   "codemirror_mode": {
    "name": "ipython",
    "version": 3
   },
   "file_extension": ".py",
   "mimetype": "text/x-python",
   "name": "python",
   "nbconvert_exporter": "python",
   "pygments_lexer": "ipython3",
   "version": "3.10.18"
  }
 },
 "nbformat": 4,
 "nbformat_minor": 5
}
