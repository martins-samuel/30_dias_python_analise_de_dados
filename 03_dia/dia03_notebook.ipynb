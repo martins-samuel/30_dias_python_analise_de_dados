{
 "cells": [
  {
   "cell_type": "markdown",
   "id": "fae86de7",
   "metadata": {},
   "source": [
    "# Tupla\n",
    "É uma sequência imutável e de tamanhos fixos. Uma vez atribuída não pode ser alterado \n"
   ]
  },
  {
   "cell_type": "code",
   "execution_count": 28,
   "id": "dffe6d3c",
   "metadata": {},
   "outputs": [
    {
     "data": {
      "text/plain": [
       "(1, 2, 3, 4)"
      ]
     },
     "execution_count": 28,
     "metadata": {},
     "output_type": "execute_result"
    }
   ],
   "source": [
    "# a maneira mais fácil de criar uma tupla é com números dentro de um parentese separados por vírgula.\n",
    "tupla = (1, 2, 3, 4)\n",
    "tupla\n"
   ]
  },
  {
   "cell_type": "code",
   "execution_count": 29,
   "id": "d08effa5",
   "metadata": {},
   "outputs": [
    {
     "data": {
      "text/plain": [
       "tuple"
      ]
     },
     "execution_count": 29,
     "metadata": {},
     "output_type": "execute_result"
    }
   ],
   "source": [
    "#Pode também emitir o parêntese  \n",
    "tup = 4,5,6\n",
    "tup\n",
    "type(tup)"
   ]
  },
  {
   "cell_type": "markdown",
   "id": "40142cec",
   "metadata": {},
   "source": [
    "## Os elementos podem ser acessados por meio dos colchetes [] !\n",
    "### As sequências em python sõa indexadas começando em 0 !"
   ]
  },
  {
   "cell_type": "code",
   "execution_count": 30,
   "id": "bbc6792b",
   "metadata": {},
   "outputs": [
    {
     "data": {
      "text/plain": [
       "((4, 5, 6), (7, 8))"
      ]
     },
     "execution_count": 30,
     "metadata": {},
     "output_type": "execute_result"
    }
   ],
   "source": [
    "# existe a possibilidade de criar uma tupla de tuplas\n",
    "nested_tup = (4,5,6),(7,8)\n",
    "nested_tup"
   ]
  },
  {
   "cell_type": "code",
   "execution_count": 31,
   "id": "adfd9cb5",
   "metadata": {},
   "outputs": [
    {
     "data": {
      "text/plain": [
       "(4, 5, 6)"
      ]
     },
     "execution_count": 31,
     "metadata": {},
     "output_type": "execute_result"
    }
   ],
   "source": [
    "nested_tup[0]"
   ]
  },
  {
   "cell_type": "code",
   "execution_count": 32,
   "id": "d29e8ebe",
   "metadata": {},
   "outputs": [
    {
     "data": {
      "text/plain": [
       "(7, 8)"
      ]
     },
     "execution_count": 32,
     "metadata": {},
     "output_type": "execute_result"
    }
   ],
   "source": [
    "nested_tup[1]"
   ]
  },
  {
   "cell_type": "markdown",
   "id": "e70fb8f7",
   "metadata": {},
   "source": [
    "## As tuplas podem ter objetos de diversos tipos de uma única vez desde elementos int,float,lista,string ...\n",
    "### Se dentro da tupla existiter um objeto mutável você pode alterar ele diretamente no local basta indicar o indíce do próprio"
   ]
  },
  {
   "cell_type": "code",
   "execution_count": 33,
   "id": "9d112ec7",
   "metadata": {},
   "outputs": [
    {
     "data": {
      "text/plain": [
       "('samuel', [1, 2, 3], 25.7)"
      ]
     },
     "execution_count": 33,
     "metadata": {},
     "output_type": "execute_result"
    }
   ],
   "source": [
    "tupla_diversos = ('samuel',[1,2,3],25.7,)\n",
    "tupla_diversos"
   ]
  },
  {
   "cell_type": "code",
   "execution_count": 34,
   "id": "d6b52494",
   "metadata": {},
   "outputs": [
    {
     "data": {
      "text/plain": [
       "('samuel', [1, 2, 3, 4], 25.7)"
      ]
     },
     "execution_count": 34,
     "metadata": {},
     "output_type": "execute_result"
    }
   ],
   "source": [
    "tupla_diversos[1].append(4)\n",
    "tupla_diversos"
   ]
  },
  {
   "cell_type": "markdown",
   "id": "3e55d6de",
   "metadata": {},
   "source": [
    "## Contatenar = \n",
    "### juntar duas ou mais sequências de caracteres (strings) em uma única sequência\n"
   ]
  },
  {
   "cell_type": "code",
   "execution_count": 35,
   "id": "6dd35d8b",
   "metadata": {},
   "outputs": [
    {
     "data": {
      "text/plain": [
       "('samuel', [1, 2, 3, 4], 25.7, (4, 5, 6), (7, 8))"
      ]
     },
     "execution_count": 35,
     "metadata": {},
     "output_type": "execute_result"
    }
   ],
   "source": [
    "tupla_diversos +  nested_tup\n",
    "# Para contatenar em python diversas tuplas bastar colocar a simbolo da adição "
   ]
  },
  {
   "cell_type": "markdown",
   "id": "94485598",
   "metadata": {},
   "source": [
    "## Desempacotamento de tuplas \n",
    "### Isso facilita a troca do nome da variável deixando o código mais limpo "
   ]
  },
  {
   "cell_type": "code",
   "execution_count": 36,
   "id": "4fc22cee",
   "metadata": {},
   "outputs": [
    {
     "data": {
      "text/plain": [
       "5"
      ]
     },
     "execution_count": 36,
     "metadata": {},
     "output_type": "execute_result"
    }
   ],
   "source": [
    "linha = (4,5,6)\n",
    "a,b,c=linha \n",
    "b"
   ]
  },
  {
   "cell_type": "markdown",
   "id": "5f3ded4d",
   "metadata": {},
   "source": [
    "### Por causa da imútabilidade da tupla ela tem poucos atributos um especialmente útil é o count(). Que realiza a conta do número de ocorrrências de um valor determinado "
   ]
  },
  {
   "cell_type": "code",
   "execution_count": 37,
   "id": "4eb84f21",
   "metadata": {},
   "outputs": [
    {
     "data": {
      "text/plain": [
       "4"
      ]
     },
     "execution_count": 37,
     "metadata": {},
     "output_type": "execute_result"
    }
   ],
   "source": [
    "a = (1,2,2,2,3,4,5,62,22,2)\n",
    "a.count(2)"
   ]
  },
  {
   "cell_type": "markdown",
   "id": "860bbc54",
   "metadata": {},
   "source": [
    "# Lista"
   ]
  },
  {
   "cell_type": "markdown",
   "id": "699a0f2b",
   "metadata": {},
   "source": [
    "## É uma coleção mutável, que tem o tamanho variável e pode ser modificada diretamente no local\n",
    "### A forma mais fácil de representar é com os objetos dentro de um colchete [] separados por virgula , ."
   ]
  },
  {
   "cell_type": "code",
   "execution_count": 38,
   "id": "521ba79b",
   "metadata": {},
   "outputs": [
    {
     "data": {
      "text/plain": [
       "[2, 3, 45.7, 'Samuel', (1, 2, 3)]"
      ]
     },
     "execution_count": 38,
     "metadata": {},
     "output_type": "execute_result"
    }
   ],
   "source": [
    "# exemplo de lista \n",
    "lista = [2,3,45.7,'Samuel', (1,2,3)]\n",
    "lista"
   ]
  },
  {
   "cell_type": "markdown",
   "id": "c5a7b873-1bf7-4af1-a804-58c7abba580a",
   "metadata": {},
   "source": [
    "## Geralmente, a função interna list é usada no processamento de dados como uma maneira de materializar um iterador ou uma expressão geradora: "
   ]
  },
  {
   "cell_type": "code",
   "execution_count": 2,
   "id": "462f0592-143b-4dae-9a79-eadf3f743f49",
   "metadata": {},
   "outputs": [
    {
     "data": {
      "text/plain": [
       "range(0, 10)"
      ]
     },
     "execution_count": 2,
     "metadata": {},
     "output_type": "execute_result"
    }
   ],
   "source": [
    "gen = range(10)\n",
    "gen"
   ]
  },
  {
   "cell_type": "code",
   "execution_count": 3,
   "id": "9792ef7a-d0ea-4ea8-b964-2cb371b7d47d",
   "metadata": {},
   "outputs": [
    {
     "data": {
      "text/plain": [
       "[0, 1, 2, 3, 4, 5, 6, 7, 8, 9]"
      ]
     },
     "execution_count": 3,
     "metadata": {},
     "output_type": "execute_result"
    }
   ],
   "source": [
    "list(gen)"
   ]
  },
  {
   "cell_type": "markdown",
   "id": "5fba2bfd-1fcc-4209-84d9-c8547b39f25f",
   "metadata": {},
   "source": [
    "## método append serve para acresentar elementos ao final da lista  "
   ]
  },
  {
   "cell_type": "code",
   "execution_count": 4,
   "id": "c4e92b2f-528a-4888-9646-5ee1c83d990c",
   "metadata": {},
   "outputs": [
    {
     "data": {
      "text/plain": [
       "['foo', 'bar', 'baz', 'luz']"
      ]
     },
     "execution_count": 4,
     "metadata": {},
     "output_type": "execute_result"
    }
   ],
   "source": [
    "b_list = [ 'foo','bar','baz']\n",
    "b_list.append('luz')\n",
    "b_list"
   ]
  },
  {
   "cell_type": "markdown",
   "id": "edf9fb74-ffd9-42bb-9fb9-cf94926112f7",
   "metadata": {},
   "source": [
    "## insert serve para adicionar um elemento em um determinado local específico da lista \n",
    "ex:"
   ]
  },
  {
   "cell_type": "code",
   "execution_count": 6,
   "id": "be62224a-faff-4996-b571-e840b5016352",
   "metadata": {},
   "outputs": [
    {
     "data": {
      "text/plain": [
       "['foo', 'bar', 'red', 'red', 'baz', 'luz']"
      ]
     },
     "execution_count": 6,
     "metadata": {},
     "output_type": "execute_result"
    }
   ],
   "source": [
    "b_list.insert(2,'red')\n",
    "b_list"
   ]
  },
  {
   "cell_type": "markdown",
   "id": "c7ba4eed-660f-476c-ac50-a733d323cefb",
   "metadata": {},
   "source": [
    "## método POP remove e retorna um elemento de um indíce específico "
   ]
  },
  {
   "cell_type": "code",
   "execution_count": 8,
   "id": "aab1a0d7-00a9-44e9-a21d-772fa0f2b782",
   "metadata": {},
   "outputs": [
    {
     "data": {
      "text/plain": [
       "'red'"
      ]
     },
     "execution_count": 8,
     "metadata": {},
     "output_type": "execute_result"
    }
   ],
   "source": [
    "b_list.pop(2)\n",
    "\n"
   ]
  },
  {
   "cell_type": "markdown",
   "id": "bc642ac9-ef8b-413d-ac6c-5217b9601979",
   "metadata": {},
   "source": [
    "## método REMOVE serve justamente para remover um elemento que localiza a primeira ocorrência do valor e a remove da lista:"
   ]
  },
  {
   "cell_type": "code",
   "execution_count": 10,
   "id": "9ea9238b-e225-48ec-9de7-8ef7f4b19b92",
   "metadata": {},
   "outputs": [
    {
     "data": {
      "text/plain": [
       "['foo', 'bar', 'baz', 'luz', 'luz', 'foo']"
      ]
     },
     "execution_count": 10,
     "metadata": {},
     "output_type": "execute_result"
    }
   ],
   "source": [
    "b_list.append('foo')\n",
    "b_list"
   ]
  },
  {
   "cell_type": "code",
   "execution_count": 11,
   "id": "96ee6a1b-ceaf-4ede-b2e9-3b43252c0dd3",
   "metadata": {},
   "outputs": [],
   "source": [
    "b_list.remove('foo')"
   ]
  },
  {
   "cell_type": "code",
   "execution_count": 12,
   "id": "aa65404e-4459-46c2-b792-06d5ec636d85",
   "metadata": {},
   "outputs": [
    {
     "data": {
      "text/plain": [
       "['bar', 'baz', 'luz', 'luz', 'foo']"
      ]
     },
     "execution_count": 12,
     "metadata": {},
     "output_type": "execute_result"
    }
   ],
   "source": [
    "b_list"
   ]
  },
  {
   "cell_type": "markdown",
   "id": "bc4e577c-0f68-4fb2-96df-561824d4d6d8",
   "metadata": {},
   "source": [
    "### Se o desempenho não for uma preocupação utilize  o append e o remove "
   ]
  },
  {
   "cell_type": "markdown",
   "id": "d09dcf7f-5686-4ce8-aca5-22e22040f60d",
   "metadata": {},
   "source": [
    "## Para verificar se uma lista contém um valor, use a palavra-chave IN"
   ]
  },
  {
   "cell_type": "code",
   "execution_count": 13,
   "id": "746e8070-9094-4366-b574-fdcef47a95ca",
   "metadata": {},
   "outputs": [
    {
     "data": {
      "text/plain": [
       "True"
      ]
     },
     "execution_count": 13,
     "metadata": {},
     "output_type": "execute_result"
    }
   ],
   "source": [
    "'foo' in b_list"
   ]
  },
  {
   "cell_type": "markdown",
   "id": "80862826-4cc8-45f3-bb71-dd8cde69cf6b",
   "metadata": {},
   "source": [
    "## Para o NOT pode ser usada como negação de IN"
   ]
  },
  {
   "cell_type": "code",
   "execution_count": 16,
   "id": "e9e016e9-d6dd-4da6-bd44-1bd537fb6607",
   "metadata": {},
   "outputs": [
    {
     "data": {
      "text/plain": [
       "False"
      ]
     },
     "execution_count": 16,
     "metadata": {},
     "output_type": "execute_result"
    }
   ],
   "source": [
    "'foo' not in b_list\n"
   ]
  },
  {
   "cell_type": "markdown",
   "id": "64c9d352-1905-457f-87ed-0bfbacd091fb",
   "metadata": {},
   "source": [
    "## Concatenação de listas \n",
    "### É como nas tuplas, somar duas listas com + as concatena: \n",
    "#### Vale ressaltar que a concatenação de listas por soma é uma operação  comparativamente dispendiosa já que uma nova lista deve ser criada e os objetos devvem ser copiados nela"
   ]
  },
  {
   "cell_type": "code",
   "execution_count": 17,
   "id": "13712ec7-ac58-466d-9177-f38d0698c74f",
   "metadata": {},
   "outputs": [
    {
     "data": {
      "text/plain": [
       "[4, None, 'foo', 7, 8, 9, (2, 3)]"
      ]
     },
     "execution_count": 17,
     "metadata": {},
     "output_type": "execute_result"
    }
   ],
   "source": [
    "[4, None, 'foo'] + [7,8,9,(2,3)]"
   ]
  },
  {
   "cell_type": "code",
   "execution_count": 18,
   "id": "fed340be-43b7-48ec-a8fd-14bee1a3c8b7",
   "metadata": {},
   "outputs": [],
   "source": [
    "x = [4, None, 'foo'] "
   ]
  },
  {
   "cell_type": "markdown",
   "id": "487997db-aae4-4d9b-8e25-82d073b2e3fa",
   "metadata": {},
   "source": [
    "## Se você já tem uma lista defina pode acresentar vários elementos a ela usando o método EXTEND "
   ]
  },
  {
   "cell_type": "code",
   "execution_count": 23,
   "id": "89a08718-41e6-4507-846f-33b510a131ff",
   "metadata": {},
   "outputs": [
    {
     "data": {
      "text/plain": [
       "[4, None, 'foo', 7, 8, (2, 3)]"
      ]
     },
     "execution_count": 23,
     "metadata": {},
     "output_type": "execute_result"
    }
   ],
   "source": [
    "x.extend([7,8,(2,3)])\n",
    "x"
   ]
  },
  {
   "cell_type": "markdown",
   "id": "7e86ce86-7fbf-482a-8171-5c944f89adbc",
   "metadata": {},
   "source": [
    "## Ordenação \n",
    "### método SORT ordenar uma lista (sem criar um novo objeto)"
   ]
  },
  {
   "cell_type": "code",
   "execution_count": 25,
   "id": "3dd05002-7731-4b55-b0a7-f0aa6f59ad56",
   "metadata": {},
   "outputs": [],
   "source": [
    "a = [7,2,5,12,67]"
   ]
  },
  {
   "cell_type": "code",
   "execution_count": 26,
   "id": "bd2febd1-e7ec-4d2c-abe9-41fd731c48de",
   "metadata": {},
   "outputs": [],
   "source": [
    "a.sort()"
   ]
  },
  {
   "cell_type": "code",
   "execution_count": 27,
   "id": "96f5ce98-d8a3-4371-afd0-e530833333fe",
   "metadata": {},
   "outputs": [
    {
     "data": {
      "text/plain": [
       "[2, 5, 7, 12, 67]"
      ]
     },
     "execution_count": 27,
     "metadata": {},
     "output_type": "execute_result"
    }
   ],
   "source": [
    "a"
   ]
  },
  {
   "cell_type": "markdown",
   "id": "4ab02e3e-5020-4e08-9b1c-e532233d6d8a",
   "metadata": {},
   "source": [
    "## métdo SORT  tem a possibilidade de passar uma chave de ordenação secundária - isto é uma função que produza um valor a ser usaado para ordenar os objetos "
   ]
  },
  {
   "cell_type": "markdown",
   "id": "4c1439b1-4a72-40f2-b180-310d9eac40bb",
   "metadata": {},
   "source": [
    "b = ['saw','small','six','he','foxes','six']\n",
    "b.sort(key=len)"
   ]
  },
  {
   "cell_type": "code",
   "execution_count": 30,
   "id": "4f81b835-56f8-4ceb-9d44-15f504426884",
   "metadata": {},
   "outputs": [
    {
     "data": {
      "text/plain": [
       "['he', 'saw', 'six', 'six', 'small', 'foxes']"
      ]
     },
     "execution_count": 30,
     "metadata": {},
     "output_type": "execute_result"
    }
   ],
   "source": [
    "b"
   ]
  },
  {
   "cell_type": "markdown",
   "id": "5b69f671-4086-41f1-886b-742cb9d49aa1",
   "metadata": {},
   "source": [
    "## Fatiamento  \n",
    "### é quando você pega uma parte da lista, especificando um intervalo de índices, e cria uma nova lista com esses elementos.\n",
    "(start:stop)\n"
   ]
  },
  {
   "cell_type": "code",
   "execution_count": 31,
   "id": "e82cd40a-e50e-4a25-b5ae-400e9fa4dda8",
   "metadata": {},
   "outputs": [],
   "source": [
    "seq = [7,2,3,7,5,6,0,1]"
   ]
  },
  {
   "cell_type": "code",
   "execution_count": 32,
   "id": "67aa2af6-7d2e-429c-acaf-28a9a32c235b",
   "metadata": {},
   "outputs": [
    {
     "data": {
      "text/plain": [
       "[2, 3, 7, 5]"
      ]
     },
     "execution_count": 32,
     "metadata": {},
     "output_type": "execute_result"
    }
   ],
   "source": [
    "seq[1:5]"
   ]
  },
  {
   "cell_type": "markdown",
   "id": "99e886d8-b246-495a-a008-1ee63150c7d7",
   "metadata": {},
   "source": [
    "### índice negativo fatia a sequência em relação ao final "
   ]
  },
  {
   "cell_type": "code",
   "execution_count": 34,
   "id": "ef823d4c-6e4a-403b-8415-b07fa04e85b1",
   "metadata": {},
   "outputs": [
    {
     "data": {
      "text/plain": [
       "5"
      ]
     },
     "execution_count": 34,
     "metadata": {},
     "output_type": "execute_result"
    }
   ],
   "source": [
    "seq[-4]"
   ]
  },
  {
   "cell_type": "code",
   "execution_count": null,
   "id": "2cc9c760-0965-4390-9942-7f35a3f63c95",
   "metadata": {},
   "outputs": [],
   "source": []
  }
 ],
 "metadata": {
  "kernelspec": {
   "display_name": "pydata-book",
   "language": "python",
   "name": "python3"
  },
  "language_info": {
   "codemirror_mode": {
    "name": "ipython",
    "version": 3
   },
   "file_extension": ".py",
   "mimetype": "text/x-python",
   "name": "python",
   "nbconvert_exporter": "python",
   "pygments_lexer": "ipython3",
   "version": "3.10.18"
  }
 },
 "nbformat": 4,
 "nbformat_minor": 5
}
